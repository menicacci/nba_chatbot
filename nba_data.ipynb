{
 "cells": [
  {
   "cell_type": "markdown",
   "id": "8daf467a",
   "metadata": {},
   "source": [
    "Dataset: https://www.kaggle.com/datasets/wyattowalsh/basketball"
   ]
  },
  {
   "cell_type": "code",
   "execution_count": null,
   "id": "23efbd9b",
   "metadata": {},
   "outputs": [],
   "source": [
    "import os\n",
    "import sqlite3\n",
    "import pandas as pd\n",
    "from scripts import sql\n",
    "\n",
    "os.environ[\"KAGGLE_USERNAME\"] = \"...\"\n",
    "os.environ[\"KAGGLE_KEY\"] = \"...\"\n",
    "\n",
    "!kaggle datasets download -d wyattowalsh/basketball -p dataset\n",
    "!unzip dataset/basketball.zip -d dataset"
   ]
  },
  {
   "cell_type": "code",
   "execution_count": null,
   "id": "dd650d6c",
   "metadata": {},
   "outputs": [],
   "source": [
    "sql_data_path = \"dataset/nba.sqlite\"\n",
    "to_remove = [\n",
    "    'game_summary',\n",
    "    'line_score',\n",
    "    'other_stats',\n",
    "    'inactive_players',\n",
    "    'officials'\n",
    "    'play_by_play',\n",
    "    'draft_combine_stats',\n",
    "    'team_info_common'\n",
    "]\n",
    "\n",
    "sql.remove_tables(sql_data_path, to_remove)\n",
    "print_output = sql.print_db_structure(sql_data_path, 2)\n",
    "\n",
    "with open(\"structure/kaggle_data_structure.txt\", \"w\") as file:\n",
    "    file.write(print_output)"
   ]
  },
  {
   "cell_type": "code",
   "execution_count": null,
   "id": "45dc63aa",
   "metadata": {},
   "outputs": [],
   "source": [
    "data_extracted = [\n",
    "    ('dataset/NBA_Player_Box_Score_Stats.csv', 'player_box_score'), \n",
    "    ('dataset/NBA_Player_Stats.csv', 'player_stats')\n",
    "]\n",
    "\n",
    "sql_data_path = \"dataset/nba_players.sqlite\"\n",
    "sql.create_db_from_csv(sql_data_path, data_extracted)\n",
    "print_output = sql.print_db_structure(sql_data_path, 2)\n",
    "\n",
    "with open(\"structure/player_data_structure.txt\", \"w\") as file:\n",
    "    file.write(print_output)"
   ]
  }
 ],
 "metadata": {
  "kernelspec": {
   "display_name": "Python 3 (ipykernel)",
   "language": "python",
   "name": "python3"
  },
  "language_info": {
   "codemirror_mode": {
    "name": "ipython",
    "version": 3
   },
   "file_extension": ".py",
   "mimetype": "text/x-python",
   "name": "python",
   "nbconvert_exporter": "python",
   "pygments_lexer": "ipython3",
   "version": "3.9.7"
  }
 },
 "nbformat": 4,
 "nbformat_minor": 5
}
